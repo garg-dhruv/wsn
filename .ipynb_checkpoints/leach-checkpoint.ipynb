{
 "cells": [
  {
   "cell_type": "markdown",
   "metadata": {},
   "source": [
    "# Python implementation of LEACH protocol on WSN"
   ]
  },
  {
   "cell_type": "markdown",
   "metadata": {},
   "source": [
    "## simulation parameters"
   ]
  },
  {
   "cell_type": "code",
   "execution_count": 1,
   "metadata": {},
   "outputs": [],
   "source": [
    "import random\n",
    "import math"
   ]
  },
  {
   "cell_type": "code",
   "execution_count": 2,
   "metadata": {},
   "outputs": [],
   "source": [
    "CH_parameters = {\n",
    "    \"broadcast_radius\": 25,\n",
    "    \"ad_msg_size\": 16,\n",
    "    \"schedule_msg_size\": 16\n",
    "} "
   ]
  },
  {
   "cell_type": "code",
   "execution_count": 3,
   "metadata": {},
   "outputs": [],
   "source": [
    "# Transmition Parameters\n",
    "trans_elec_loss = rec_elec_loss = 50 #nJ/bit\n",
    "trans_amp_loss = 100 #pJ/bit/m^2"
   ]
  },
  {
   "cell_type": "code",
   "execution_count": 4,
   "metadata": {},
   "outputs": [],
   "source": [
    "class Node:\n",
    "    def __init__(self):\n",
    "        self.position = {\n",
    "            'x': None,\n",
    "            'y': None\n",
    "        }\n",
    "        self.is_CH = False\n",
    "        self.power = 0.75\n",
    "        self.is_dead = False\n",
    "        self.last_CH_round = None\n",
    "        self.closest_CH = {\n",
    "            'node_id': None,\n",
    "            'dist': None\n",
    "        }"
   ]
  },
  {
   "cell_type": "code",
   "execution_count": 5,
   "metadata": {},
   "outputs": [],
   "source": [
    "class Network:\n",
    "    def __init__(self):\n",
    "        self.dimentions = {\n",
    "            'x': 100,\n",
    "            'y': 100\n",
    "        }\n",
    "        self.no_of_nodes = 50\n",
    "        self.percentage_CH = 0.05 # percentage of nodes to become CH in each round\n",
    "        self.nodes = [Node() for i in range(self.no_of_nodes)]\n",
    "        self.current_round_number = 0\n",
    "        for i in range(self.no_of_nodes):\n",
    "            self.nodes[i].position['x'] = random.randint(0, self.dimentions['x'])\n",
    "            self.nodes[i].position['y'] = random.randint(0, self.dimentions['y'])"
   ]
  },
  {
   "cell_type": "code",
   "execution_count": 6,
   "metadata": {},
   "outputs": [],
   "source": [
    "network = Network()"
   ]
  },
  {
   "cell_type": "markdown",
   "metadata": {},
   "source": [
    "## Misc"
   ]
  },
  {
   "cell_type": "code",
   "execution_count": 7,
   "metadata": {},
   "outputs": [],
   "source": [
    "def calc_dist(positionA, positionB):\n",
    "    dist = math.sqrt((positionA['x'] - positionB['x'])**2 + (positionA['y'] - positionB['y'])**2)\n",
    "    return dist"
   ]
  },
  {
   "cell_type": "markdown",
   "metadata": {},
   "source": [
    "## First Order Radio Model\n",
    "Energy loss due to transmition is calculated using the following formula (k bit msg transmited to distance d):\n",
    "\\begin{equation*}\n",
    "    E_{T_{x}}(k,d) = E_{T_{x-elex}}(k) + E_{T_{x-amp}}(k,d) \\\\\n",
    "    E_{T_{x}}(k,d) = E_{elec}*k + \\epsilon_{amp}*k*d^2\n",
    "\\end{equation*}\n",
    "\n",
    "Energy loss due to reception is calculated using the following formula (k bit msg):\n",
    "\\begin{equation*}\n",
    "    E_{R_{x}}(k) = E_{R_{x-elex}}(k) \\\\\n",
    "    E_{R_{x}}(k) = E_{elec}*k\n",
    "\\end{equation*}"
   ]
  },
  {
   "cell_type": "code",
   "execution_count": 8,
   "metadata": {},
   "outputs": [],
   "source": [
    "def transmition_loss(msg_size, transmit_distance):\n",
    "    loss = trans_elec_loss*msg_size + trans_amp_loss*msg_size*(transmit_distance**2)\n",
    "    return loss\n",
    "\n",
    "def reception_loss(msg_size):\n",
    "    loss = rec_elec_loss*msg_size\n",
    "    return loss"
   ]
  },
  {
   "cell_type": "markdown",
   "metadata": {},
   "source": [
    "## Advertisement Phase "
   ]
  },
  {
   "cell_type": "markdown",
   "metadata": {},
   "source": [
    "1. Cluster Heads are selected\n",
    "1. Every selected Cluster heads transmit the advertisement message\n",
    "1. Non-CH recive the AD-msg and select the closest CH to transmit their data to."
   ]
  },
  {
   "cell_type": "markdown",
   "metadata": {},
   "source": [
    "### Cluster Head selection\n",
    "* Calculate threshold\n",
    "\\begin{equation*}\n",
    "    T(n) = \n",
    "    \\begin{cases}\n",
    "        \\frac{P}{1-P*(rmod\\frac{1}{P})} \\quad &\\text{if} \\, n \\in G \\\\\n",
    "        0 \\quad &\\text{otherwise} \\\\\n",
    "    \\end{cases}\n",
    "\\end{equation*}\n",
    "    * $P =$ percentage of nodes for CH\n",
    "    * $r =$ round number\n",
    "    * $G :$ nodes that have not yet been CH\n",
    "* generate random number\n",
    "* node becomes CH if generated random number is greter then the threshold"
   ]
  },
  {
   "cell_type": "code",
   "execution_count": 9,
   "metadata": {},
   "outputs": [],
   "source": [
    "def determine_threshold(network):\n",
    "    p = network.percentage_CH\n",
    "    r = network.current_round_number\n",
    "    T = p/(1 - p*(r%(1/p)))\n",
    "    return T"
   ]
  },
  {
   "cell_type": "code",
   "execution_count": 10,
   "metadata": {},
   "outputs": [],
   "source": [
    "def is_node_CH(network, node_id):\n",
    "    if network.nodes[node_id].last_CH_round is None or network.nodes[node_id].last_CH_round <= network.current_round_number - network.no_of_nodes and network.nodes[node_id].is_dead is False:\n",
    "        if random.uniform(0, 1) < determine_threshold(network):\n",
    "            return True\n",
    "        else:\n",
    "            return False\n",
    "    else:\n",
    "        return False"
   ]
  },
  {
   "cell_type": "code",
   "execution_count": 11,
   "metadata": {
    "slideshow": {
     "slide_type": "skip"
    },
    "tags": [
     "Test"
    ]
   },
   "outputs": [
    {
     "name": "stdout",
     "output_type": "stream",
     "text": [
      "False\n",
      "False\n",
      "False\n",
      "False\n",
      "False\n",
      "False\n",
      "False\n",
      "False\n",
      "False\n",
      "False\n",
      "False\n",
      "False\n",
      "True\n",
      "False\n",
      "False\n",
      "False\n",
      "False\n",
      "False\n",
      "False\n",
      "False\n",
      "False\n",
      "False\n",
      "False\n",
      "False\n",
      "False\n",
      "True\n",
      "False\n",
      "False\n",
      "False\n",
      "False\n",
      "False\n",
      "False\n",
      "False\n",
      "False\n",
      "False\n",
      "False\n",
      "False\n",
      "False\n",
      "False\n",
      "False\n",
      "False\n",
      "False\n",
      "False\n",
      "False\n",
      "False\n",
      "False\n",
      "True\n",
      "False\n",
      "False\n",
      "False\n"
     ]
    }
   ],
   "source": [
    "## Test Cell\n",
    "for i in range(50):\n",
    "    print(is_node_CH(network, i))"
   ]
  },
  {
   "cell_type": "code",
   "execution_count": 12,
   "metadata": {},
   "outputs": [],
   "source": [
    "def select_CH(network):\n",
    "    for i in range(network.no_of_nodes):\n",
    "        network.nodes[i].is_CH = is_node_CH(network, i)"
   ]
  },
  {
   "cell_type": "code",
   "execution_count": 13,
   "metadata": {},
   "outputs": [],
   "source": [
    "select_CH(network)"
   ]
  },
  {
   "cell_type": "markdown",
   "metadata": {},
   "source": [
    "### Ad-Transmition"
   ]
  },
  {
   "cell_type": "code",
   "execution_count": 14,
   "metadata": {},
   "outputs": [],
   "source": [
    "for i in range(network.no_of_nodes):\n",
    "    if network.nodes[i].is_CH is True:\n",
    "        network.nodes[i].power = network.nodes[i].power - transmition_loss(CH_parameters[\"ad_msg_size\"], CH_parameters[\"broadcast_radius\"])"
   ]
  },
  {
   "cell_type": "markdown",
   "metadata": {},
   "source": [
    "### Closest CH selection"
   ]
  },
  {
   "cell_type": "code",
   "execution_count": 15,
   "metadata": {},
   "outputs": [],
   "source": [
    "def find_closest_CH(node_id, network):\n",
    "    closest_CH_id = None\n",
    "    closest_CH_dist = None\n",
    "    for i in range(network.no_of_nodes):\n",
    "        if network.nodes[i].is_CH is True:\n",
    "            if closest_CH_id is None:\n",
    "                closest_CH_id = i\n",
    "                closest_CH_dist = calc_dist(network.nodes[node_id].position, network.nodes[i].position)\n",
    "            else:\n",
    "                dist = calc_dist(network.nodes[node_id].position, network.nodes[i].position)\n",
    "                if dist < closest_CH_dist:\n",
    "                    closest_CH_id = i\n",
    "                    closest_CH_dist = dist\n",
    "    return closest_CH_id, closest_CH_dist"
   ]
  },
  {
   "cell_type": "code",
   "execution_count": 16,
   "metadata": {
    "slideshow": {
     "slide_type": "skip"
    },
    "tags": [
     "Test"
    ]
   },
   "outputs": [
    {
     "name": "stdout",
     "output_type": "stream",
     "text": [
      "1 (0, 22.561028345356956)\n",
      "2 (15, 11.045361017187261)\n",
      "3 (29, 33.13608305156178)\n",
      "4 (15, 24.351591323771842)\n",
      "5 (29, 33.421549934136806)\n",
      "6 (15, 25.079872407968907)\n",
      "7 (15, 4.47213595499958)\n",
      "8 (29, 10.44030650891055)\n",
      "9 (0, 20.248456731316587)\n",
      "10 (15, 21.18962010041709)\n",
      "11 (15, 41.400483088968905)\n",
      "12 (29, 33.734255586866)\n",
      "13 (15, 28.792360097775937)\n",
      "14 (29, 39.05124837953327)\n",
      "16 (15, 22.67156809750927)\n",
      "17 (0, 26.870057685088806)\n",
      "18 (0, 20.248456731316587)\n",
      "19 (15, 37.21558813185679)\n",
      "20 (0, 12.36931687685298)\n",
      "21 (15, 13.45362404707371)\n",
      "22 (15, 50.695167422546305)\n",
      "23 (15, 7.615773105863909)\n",
      "24 (29, 5.0990195135927845)\n",
      "25 (15, 15.811388300841896)\n",
      "26 (0, 24.839484696748443)\n",
      "27 (0, 31.953090617340916)\n",
      "28 (15, 26.0)\n",
      "30 (0, 34.9857113690718)\n",
      "31 (15, 21.93171219946131)\n",
      "32 (29, 40.162171256046406)\n",
      "33 (15, 10.816653826391969)\n",
      "34 (29, 24.20743687382041)\n",
      "35 (0, 27.65863337187866)\n",
      "36 (15, 19.1049731745428)\n",
      "37 (29, 1.4142135623730951)\n",
      "38 (15, 32.64965543462902)\n",
      "39 (15, 5.385164807134504)\n",
      "40 (29, 8.06225774829855)\n",
      "41 (29, 29.068883707497267)\n",
      "42 (15, 31.144823004794873)\n",
      "43 (15, 59.53990258641679)\n",
      "44 (29, 18.027756377319946)\n",
      "45 (15, 15.620499351813308)\n",
      "46 (15, 19.209372712298546)\n",
      "47 (15, 43.174066289845804)\n",
      "48 (15, 59.481089431852205)\n",
      "49 (15, 25.0)\n"
     ]
    }
   ],
   "source": [
    "## Test Cell\n",
    "for i in range(network.no_of_nodes):\n",
    "    if network.nodes[i].is_CH is False:\n",
    "        print(i, find_closest_CH(i, network))"
   ]
  },
  {
   "cell_type": "code",
   "execution_count": 17,
   "metadata": {
    "slideshow": {
     "slide_type": "skip"
    },
    "tags": [
     "Test"
    ]
   },
   "outputs": [
    {
     "name": "stdout",
     "output_type": "stream",
     "text": [
      "0\n",
      "15\n",
      "29\n"
     ]
    }
   ],
   "source": [
    "## Test Cell\n",
    "for i in range(network.no_of_nodes):\n",
    "    if network.nodes[i].is_CH is True:\n",
    "        print(i)"
   ]
  },
  {
   "cell_type": "code",
   "execution_count": 18,
   "metadata": {},
   "outputs": [],
   "source": [
    "def CH_in_range(node_id, network):\n",
    "    count = 0\n",
    "    for i in range(network.no_of_nodes):\n",
    "        if network.nodes[i].is_CH is True:\n",
    "            if(calc_dist(network.nodes[node_id].position, network.nodes[i].position) <= 25):\n",
    "                count = count + 1\n",
    "    return count"
   ]
  },
  {
   "cell_type": "code",
   "execution_count": 19,
   "metadata": {},
   "outputs": [],
   "source": [
    "for i in range(network.no_of_nodes):\n",
    "    if network.nodes[i].is_CH is False:\n",
    "        network.nodes[i].closest_CH = find_closest_CH(i, network)\n",
    "        network.nodes[i].power = network.nodes[i].power - reception_loss(CH_parameters['ad_msg_size'])*CH_in_range(i, network)"
   ]
  }
 ],
 "metadata": {
  "kernelspec": {
   "display_name": "Python 3",
   "language": "python",
   "name": "python3"
  },
  "language_info": {
   "codemirror_mode": {
    "name": "ipython",
    "version": 3
   },
   "file_extension": ".py",
   "mimetype": "text/x-python",
   "name": "python",
   "nbconvert_exporter": "python",
   "pygments_lexer": "ipython3",
   "version": "3.6.5"
  }
 },
 "nbformat": 4,
 "nbformat_minor": 2
}
